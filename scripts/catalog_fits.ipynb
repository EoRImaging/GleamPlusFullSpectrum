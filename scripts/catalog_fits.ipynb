{
 "cells": [
  {
   "cell_type": "code",
   "execution_count": null,
   "metadata": {},
   "outputs": [],
   "source": [
    "from pyradiosky import SkyModel, utils\n",
    "import numpy as np\n",
    "from astropy.table import Table, setdiff, QTable\n",
    "from astropy.utils.diff import report_diff_values\n",
    "from astropy.io import fits\n",
    "import numpy.polynomial.polynomial as poly\n",
    "import matplotlib.pyplot as plt\n",
    "import plotly.graph_objects as go\n",
    "import pandas as pd\n",
    "import psutil\n",
    "import erfa\n",
    "sm = SkyModel()\n",
    "\n",
    "ruby_catalog = sm.from_fhd_catalog(\"/Users/Kiana1/uwradcos/FHD/catalog_data/GLEAM_v2_plus_rlb2019.sav\",\n",
    "                                  expand_extended = True)\n",
    "gleam_catalog = sm.from_gleam_catalog(\"/Users/Kiana1/uwradcos/gleam.vot\", spectral_type = \"subband\", with_error = True)"
   ]
  },
  {
   "cell_type": "code",
   "execution_count": null,
   "metadata": {},
   "outputs": [],
   "source": [
    "def log_linear_fit(freqs, fit_data, stokes_error, dec):\n",
    "    # Fit logged data to linear polynomial\n",
    "    #Compute combined error\n",
    "    # calculate chi2 using raw data\n",
    "\n",
    "    if (dec >= 18.5) or (dec <= -72):\n",
    "        loc_error = fit_data * .03\n",
    "    else:\n",
    "        loc_error = fit_data * .02\n",
    "    \n",
    "    total_error = np.sqrt(loc_error**2 + stokes_error**2)\n",
    "    first_weight = 1/total_error\n",
    "    weight = np.log10(1 / total_error)\n",
    "    \n",
    "    #if np.isnan(np.sum(stokes_error)):\n",
    "    #    print(fit_data, stokes_error)\n",
    "    \n",
    "    #Perform poly fit on logged data\n",
    "    fit_data_log = np.log10(fit_data)\n",
    "    freqs_log = np.log10(freqs)\n",
    "    \n",
    "    coeffs = poly.polyfit(freqs_log, fit_data_log, w = weight, deg=1)\n",
    "    fit_log = poly.polyval(freqs_log, coeffs)\n",
    "    \n",
    "    fitted_data = 10**fit_log\n",
    "    \n",
    "    #compute chi2 value\n",
    "    variance = total_error**2\n",
    "    residual = fit_data - fitted_data\n",
    "    chi2 = sum((residual**2) / variance)\n",
    "    chi2_residual = chi2 / (len(freqs) - 2)\n",
    "    \n",
    "    return(coeffs, chi2_residual, fitted_data)"
   ]
  },
  {
   "cell_type": "code",
   "execution_count": null,
   "metadata": {},
   "outputs": [],
   "source": [
    "# create dict of corresponding freqs and indices\n",
    "freq_dict = dict(zip(range(0,20), list(gleam_catalog.freq_array.value)))\n",
    "\n",
    "fit_parameters = np.array([[0,0]])\n",
    "low_data_objs = np.array([[0,0,0]])\n",
    "first_chi2 = []\n",
    "second_chi2 = []\n",
    "third_chi2 = []\n",
    "final_chi2 = []\n",
    "small_chi = []\n",
    "errors = []\n",
    "nan_sources = []\n",
    "nan_data = []\n",
    "nan_error = []\n",
    "\n",
    "# Separate all rows that contain nans\n",
    "for source in np.arange(gleam_catalog.Ncomponents):\n",
    "    fit_data = gleam_catalog.stokes.value[0,:,source]\n",
    "    dec = gleam_catalog.dec.value[source]\n",
    "    freqs = gleam_catalog.freq_array.value\n",
    "    stokes_error = gleam_catalog.stokes_error.value[0,:,source]\n",
    "    \n",
    "    # remove negative data by turning into nans before fitting\n",
    "    fit_data[fit_data < 0] = np.nan\n",
    "    \n",
    "    # Subset to only data that is not nans before fitting\n",
    "    if np.isnan(np.sum(gleam_catalog.stokes.value[0,:,source])):\n",
    "        \n",
    "        # finds position of non-nan values\n",
    "        val_pos = np.argwhere(~np.isnan(gleam_catalog.stokes.value[0,:,source])).flatten()\n",
    "        nan_pos = np.argwhere(np.isnan(gleam_catalog.stokes.value[0,:,source]))\n",
    "\n",
    "        # makes list of freqs missing, subsets to only present freqs\n",
    "        all_missing = [freq_dict.get(key) for key in nan_pos[:,0]]\n",
    "        freqs = freqs[val_pos]\n",
    "        \n",
    "        # data and errors with no nans\n",
    "        og_fit_data = fit_data\n",
    "        og_stokes_error = stokes_error\n",
    "        \n",
    "        fit_data = gleam_catalog.stokes.value[0,val_pos, source]\n",
    "        stokes_error = gleam_catalog.stokes_error.value[0,val_pos, source]\n",
    "        \n",
    "        if len(freqs) < 4:\n",
    "            continue\n",
    "            #low_data = np.array([[gleam_catalog.ra.value[source], gleam_catalog.dec.value[source], freqs, fit_data]])\n",
    "            #low_data_objs = np.concatenate(low_data_objs, low_data)\n",
    "    \n",
    "    # Find sources that have error nans\n",
    "    errors.append(np.sum(stokes_error))\n",
    "    if np.isnan(np.sum(stokes_error)):\n",
    "        nan_sources.append(source)\n",
    "        nan_data.append(og_fit_data)\n",
    "        nan_error.append(og_stokes_error)\n",
    "    if np.isnan(np.sum(stokes_error)):\n",
    "        continue\n",
    "    \n",
    "    coeffs, chi2_residual, fitted_data = log_linear_fit(freqs, fit_data, stokes_error, dec)\n",
    "    first_chi2.append(chi2_residual)\n",
    "    \n",
    "    # If not good fit, run on bottom half of the freqs fitted and try again\n",
    "    if chi2_residual >= 1.93:\n",
    "        if len(freqs) >=8:\n",
    "            half_freqs = freqs[:int(len(freqs) / 2)]\n",
    "            fit_data_half = fit_data[:int(len(freqs) / 2)]\n",
    "            error_half = stokes_error[:int(len(freqs) / 2)]\n",
    "        \n",
    "            coeffs, chi2_residual, fitted_data = log_linear_fit(half_freqs, fit_data_half, error_half, dec)\n",
    "            second_chi2.append(chi2_residual)\n",
    "            \n",
    "            # If still not good, run on bottom quarter of freqs fitted\n",
    "            if chi2_residual >= 1.93:\n",
    "                qt_freqs = half_freqs[:int(len(half_freqs) / 2)]\n",
    "                fit_data_qt = fit_data_half[:int(len(half_freqs) / 2)]\n",
    "                error_qt = error_half[:int(len(half_freqs) / 2)]\n",
    "        \n",
    "                coeffs, chi2_residual, fitted_data = log_linear_fit(qt_freqs, fit_data_qt, error_qt, dec)\n",
    "                third_chi2.append(chi2_residual)\n",
    "            \n",
    "        else:\n",
    "            # run fit on bottom 4 frequencies if half the freqs is 4 or less\n",
    "            bottom_freqs = freqs[:3]\n",
    "            fit_data_bottom = fit_data[:3]\n",
    "            error_bottom = stokes_error[:3]\n",
    "            \n",
    "            coeffs, chi2_residual, fitted_data = log_linear_fit(bottom_freqs, fit_data_bottom, error_bottom, dec)\n",
    "            final_chi2.append(chi2_residual)\n",
    "    \n",
    "    else:\n",
    "        small_chi.append(source)\n",
    "    fit_parameters = np.concatenate((fit_parameters, np.array([coeffs])))\n",
    "    \n",
    " \n",
    "fit_parameters = np.delete(fit_parameters, [0,0], axis = 0)"
   ]
  },
  {
   "cell_type": "code",
   "execution_count": null,
   "metadata": {},
   "outputs": [],
   "source": [
    "t = Table([np.array(nan_sources), np.array(nan_data), np.array(nan_error)], names = ('source', 'stokes_i_data', 'stokes_i_error'))\n",
    "t.write('/Users/Kiana1/uwradcos/GleamPlusFullSpectrum/misc/nan_error_sources.fits', format='fits')"
   ]
  },
  {
   "cell_type": "code",
   "execution_count": 19,
   "metadata": {},
   "outputs": [
    {
     "data": {
      "text/plain": [
       "array([ 19973,  19996,  20064,  20065,  20066,  20067,  20068,  20069,\n",
       "       120492, 148414, 172500, 248971, 249112, 249113, 249114, 249115,\n",
       "       249116, 249117, 262021, 266254, 266255, 266256, 266257, 266258,\n",
       "       279394, 279395, 279396])"
      ]
     },
     "execution_count": 19,
     "metadata": {},
     "output_type": "execute_result"
    }
   ],
   "source": [
    "np.array(nan_sources)"
   ]
  },
  {
   "cell_type": "code",
   "execution_count": 104,
   "metadata": {
    "scrolled": true
   },
   "outputs": [
    {
     "name": "stdout",
     "output_type": "stream",
     "text": [
      "first chi2 < 1.93:  283565\n",
      "first chi2 >= 1.93:  23489\n",
      "second chi2 < 1.93:  13732\n",
      "second chi2 >= 1.93:  9754\n",
      "third chi2 < 1.93:  4819\n",
      "third chi2 >= 1.93:  4935\n",
      "final chi2 < 1.93:  2\n",
      "final chi2 >= 1.93:  1\n"
     ]
    }
   ],
   "source": [
    "print(\"first chi2 < 1.93: \", len([x for x in first_chi2 if x < 1.93]))\n",
    "print(\"first chi2 >= 1.93: \", len([x for x in first_chi2 if x >= 1.93]))\n",
    "print(\"second chi2 < 1.93: \", len([x for x in second_chi2 if x < 1.93]))\n",
    "print(\"second chi2 >= 1.93: \", len([x for x in second_chi2 if x >= 1.93]))\n",
    "print(\"third chi2 < 1.93: \", len([x for x in third_chi2 if x < 1.93]))\n",
    "print(\"third chi2 >= 1.93: \", len([x for x in third_chi2 if x >= 1.93]))\n",
    "print(\"final chi2 < 1.93: \", len([x for x in final_chi2 if x < 1.93]))\n",
    "print(\"final chi2 >= 1.93: \", len([x for x in final_chi2 if x >= 1.93]))"
   ]
  },
  {
   "cell_type": "code",
   "execution_count": 79,
   "metadata": {},
   "outputs": [
    {
     "data": {
      "text/plain": [
       "Text(0.5, 1.0, 'Residual Chi2 <20, all freqs')"
      ]
     },
     "execution_count": 79,
     "metadata": {},
     "output_type": "execute_result"
    },
    {
     "data": {
      "image/png": "[encoded data removed]",
      "text/plain": [
       "<Figure size 432x288 with 1 Axes>"
      ]
     },
     "metadata": {
      "needs_background": "light"
     },
     "output_type": "display_data"
    }
   ],
   "source": [
    "# Distribution of chi2 values after fitting on all freqs\n",
    "first_chi2[:] = [x for x in first_chi2 if x <= 20]\n",
    "plt.hist(first_chi2, bins = 40)\n",
    "plt.title(\"Residual Chi2 <20, all freqs\")"
   ]
  },
  {
   "cell_type": "code",
   "execution_count": 81,
   "metadata": {},
   "outputs": [
    {
     "data": {
      "text/plain": [
       "Text(0.5, 1.0, 'Residual Chi2 <20, bottom half freqs')"
      ]
     },
     "execution_count": 81,
     "metadata": {},
     "output_type": "execute_result"
    },
    {
     "data": {
      "image/png": "[encoded data removed]",
      "text/plain": [
       "<Figure size 432x288 with 1 Axes>"
      ]
     },
     "metadata": {
      "needs_background": "light"
     },
     "output_type": "display_data"
    }
   ],
   "source": [
    "# Distribution of chi2 values after fitting on bottom half of freqs\n",
    "second_chi2[:] = [x for x in second_chi2 if x <= 20]\n",
    "plt.hist(second_chi2, bins = 40)\n",
    "plt.title(\"Residual Chi2 <20, bottom half freqs\")"
   ]
  },
  {
   "cell_type": "code",
   "execution_count": 96,
   "metadata": {},
   "outputs": [
    {
     "data": {
      "text/plain": [
       "Text(0.5, 1.0, 'Residual Chi2, bottom quarter freqs')"
      ]
     },
     "execution_count": 96,
     "metadata": {},
     "output_type": "execute_result"
    },
    {
     "data": {
      "image/png": "[encoded data removed]",
      "text/plain": [
       "<Figure size 432x288 with 1 Axes>"
      ]
     },
     "metadata": {
      "needs_background": "light"
     },
     "output_type": "display_data"
    }
   ],
   "source": [
    "# Distribution of chi2 values after fitting on bottom half of freqs\n",
    "third_chi2[:] = [x for x in third_chi2]# if x <= 20]\n",
    "plt.hist(third_chi2, bins = 40)\n",
    "plt.title(\"Residual Chi2, bottom quarter freqs\")"
   ]
  },
  {
   "cell_type": "code",
   "execution_count": 84,
   "metadata": {},
   "outputs": [
    {
     "data": {
      "text/plain": [
       "Text(0.5, 1.0, 'Residual Chi2, bottom 4 freqs')"
      ]
     },
     "execution_count": 84,
     "metadata": {},
     "output_type": "execute_result"
    },
    {
     "data": {
      "image/png": "[encoded data removed]",
      "text/plain": [
       "<Figure size 432x288 with 1 Axes>"
      ]
     },
     "metadata": {
      "needs_background": "light"
     },
     "output_type": "display_data"
    }
   ],
   "source": [
    "# Distribution of chi2 values after fitting on bottom 4 freqs\n",
    "final_chi2[:] = [x for x in final_chi2] # if x <= 5000]\n",
    "plt.hist(final_chi2, bins = 0)\n",
    "plt.title(\"Residual Chi2, bottom 4 freqs\")"
   ]
  },
  {
   "cell_type": "code",
   "execution_count": 415,
   "metadata": {},
   "outputs": [
    {
     "data": {
      "text/plain": [
       "<matplotlib.collections.PathCollection at 0x7fc218423510>"
      ]
     },
     "execution_count": 415,
     "metadata": {},
     "output_type": "execute_result"
    },
    {
     "data": {
      "image/png": "[encoded data removed]",
      "text/plain": [
       "<Figure size 432x288 with 1 Axes>"
      ]
     },
     "metadata": {
      "needs_background": "light"
     },
     "output_type": "display_data"
    }
   ],
   "source": [
    "plt.scatter(freqs_log, fit)\n",
    "plt.scatter(freqs_log, fit_data_log)"
   ]
  },
  {
   "cell_type": "code",
   "execution_count": 604,
   "metadata": {},
   "outputs": [
    {
     "name": "stdout",
     "output_type": "stream",
     "text": [
      "(10,)\n",
      "(10,)\n",
      "(10,)\n"
     ]
    },
    {
     "data": {
      "text/plain": [
       "<matplotlib.collections.PathCollection at 0x7fbfe87c9650>"
      ]
     },
     "execution_count": 604,
     "metadata": {},
     "output_type": "execute_result"
    },
    {
     "data": {
      "image/png": "[encoded data removed]",
      "text/plain": [
       "<Figure size 432x288 with 1 Axes>"
      ]
     },
     "metadata": {
      "needs_background": "light"
     },
     "output_type": "display_data"
    }
   ],
   "source": [
    "plt.scatter(half_freqs, fit_data_half)\n",
    "plt.scatter(half_freqs, fitted_data)"
   ]
  },
  {
   "cell_type": "code",
   "execution_count": 394,
   "metadata": {},
   "outputs": [
    {
     "name": "stdout",
     "output_type": "stream",
     "text": [
      "[0.24092082 0.25528853 0.32508603 0.31211276 0.4234317  0.46659117\n",
      " 0.61092288 0.46488217 0.41741449 0.4993785  0.54080973 0.4977393\n",
      " 0.41869153 0.45128907 0.44994083 0.67267761 0.61968604 0.28999502\n",
      " 0.70236065 0.90777771]\n",
      "[-0.27654679 -0.29303911 -0.37315787 -0.35826618 -0.48604632 -0.53558796\n",
      " -0.70126261 -0.53362624 -0.47913933 -0.57322369 -0.62078153 -0.5713421\n",
      " -0.4806052  -0.51802307 -0.51647546 -0.77214927 -0.71132161 -0.3328778\n",
      " -0.80622167 -1.04201461]\n"
     ]
    }
   ],
   "source": [
    "print(p[0]*fit_data)\n",
    "print(fit_data)"
   ]
  },
  {
   "cell_type": "markdown",
   "metadata": {},
   "source": [
    "Plotting Data"
   ]
  },
  {
   "cell_type": "code",
   "execution_count": null,
   "metadata": {},
   "outputs": [],
   "source": [
    "#plot all ruby's catalog points\n",
    "fig = go.Figure(data=go.Scatter(\n",
    "    x = ruby.ra,\n",
    "    y = ruby.dec,\n",
    "    mode='markers',\n",
    "    marker=dict(\n",
    "        size=2,\n",
    "        color=ruby.stokes_i, #set color equal to a variable\n",
    "        colorscale='Viridis', # one of plotly colorscales\n",
    "        showscale=True\n",
    "    )\n",
    "))\n",
    "\n",
    "fig.write_html('./plots/ruby_data.html')\n",
    "\n",
    "#plot all ruby's catalog points that are NOT in GLEAM\n",
    "fig = go.Figure(data=go.Scatter(\n",
    "    x = ruby_not_in_gleam.ra,\n",
    "    y = ruby_not_in_gleam.dec,\n",
    "    mode='markers',\n",
    "    marker=dict(\n",
    "        size=2,\n",
    "        color=ruby_not_in_gleam.stokes_i, #set color equal to a variable\n",
    "        colorscale='Viridis', # one of plotly colorscales\n",
    "        showscale=True\n",
    "    )\n",
    "))\n",
    "\n",
    "fig.write_html('./plots/only_ruby_data.html')"
   ]
  },
  {
   "cell_type": "code",
   "execution_count": null,
   "metadata": {},
   "outputs": [],
   "source": [
    "#plot all gleam points\n",
    "fig = go.Figure(data=go.Scatter(\n",
    "    x = gleam.ra,\n",
    "    y = gleam.dec,\n",
    "    mode='markers',\n",
    "    marker=dict(\n",
    "        size=2,\n",
    "        color=gleam_log, #set color equal to a variable\n",
    "        colorscale='Viridis', # one of plotly colorscales\n",
    "        showscale=True\n",
    "    )\n",
    "))\n",
    "\n",
    "fig.write_html('./plots/gleam_data.html')"
   ]
  },
  {
   "cell_type": "code",
   "execution_count": null,
   "metadata": {},
   "outputs": [],
   "source": [
    "gleam = pd.DataFrame(data = {'ra': gleam_catalog.ra, 'dec': gleam_catalog.dec, 'stokes_i': gleam_stokes[0,13,:]})\n",
    "ruby = pd.DataFrame(data = {'ra': ruby_catalog.ra, 'dec': ruby_catalog.dec, 'stokes_i': ruby_stokes[0,0,:]})"
   ]
  },
  {
   "cell_type": "code",
   "execution_count": null,
   "metadata": {},
   "outputs": [],
   "source": [
    "stokes_I = gleam_stokes[0,13,:]\n",
    "plt.scatter(gleam_catalog.ra, gleam_catalog.dec, .1, marker = \".\", c=gleam_stokes[0, 13,:], norm=co.LogNorm())\n",
    "#plt.scatter(ruby_catalog.ra, ruby_catalog.dec, .1, marker = \".\", c=ruby_stokes[0,:,:])"
   ]
  }
 ],
 "metadata": {
  "kernelspec": {
   "display_name": "Python 3",
   "language": "python",
   "name": "python3"
  },
  "language_info": {
   "codemirror_mode": {
    "name": "ipython",
    "version": 3
   },
   "file_extension": ".py",
   "mimetype": "text/x-python",
   "name": "python",
   "nbconvert_exporter": "python",
   "pygments_lexer": "ipython3",
   "version": "3.7.8"
  }
 },
 "nbformat": 4,
 "nbformat_minor": 4
}
